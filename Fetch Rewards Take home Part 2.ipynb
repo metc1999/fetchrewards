{
 "cells": [
  {
   "cell_type": "markdown",
   "id": "b9d8038f",
   "metadata": {},
   "source": [
    "**Fetch Rewards Take Home Part 2**"
   ]
  },
  {
   "cell_type": "code",
   "execution_count": 152,
   "id": "f628fbc4",
   "metadata": {},
   "outputs": [],
   "source": [
    "import psycopg2\n",
    "from psycopg2.extras import execute_values\n",
    "import pandas as pd"
   ]
  },
  {
   "cell_type": "code",
   "execution_count": 153,
   "id": "0669cb3a",
   "metadata": {},
   "outputs": [],
   "source": [
    "# File paths\n",
    "products_file = '/Users/etc1999/Downloads/PRODUCTS_TAKEHOME.csv'\n",
    "transactions_file = '/Users/etc1999/Downloads/TRANSACTION_TAKEHOME.csv'\n",
    "users_file = '/Users/etc1999/Downloads/USER_TAKEHOME.csv'\n"
   ]
  },
  {
   "cell_type": "code",
   "execution_count": 154,
   "id": "38129857",
   "metadata": {},
   "outputs": [],
   "source": [
    "# Read CSV files\n",
    "products_df = pd.read_csv(products_file)\n",
    "transactions_df = pd.read_csv(transactions_file)\n",
    "users_df = pd.read_csv(users_file)"
   ]
  },
  {
   "cell_type": "code",
   "execution_count": 155,
   "id": "5cea36b7",
   "metadata": {},
   "outputs": [],
   "source": [
    "# Data cleaning: Convert BARCODE to string and remove '.0'\n",
    "products_df['BARCODE'] = products_df['BARCODE'].fillna(-1).astype(str).str.replace(r'\\.0$', '', regex=True)\n",
    "transactions_df['BARCODE'] = transactions_df['BARCODE'].fillna(-1).astype(str).str.replace(r'\\.0$', '', regex=True)\n",
    "\n",
    "# Remove duplicate receipt_id values\n",
    "transactions_df = transactions_df.drop_duplicates(subset=['RECEIPT_ID'])\n",
    "\n",
    "# Clean all date columns in the users_df\n",
    "for col in ['CREATED_DATE', 'BIRTH_DATE']:\n",
    "    users_df[col] = pd.to_datetime(users_df[col].str.replace(' Z', '', regex=False), errors='coerce')  # Convert to datetime, set invalid to NaT\n",
    "    users_df[col] = users_df[col].apply(lambda x: x.isoformat() if pd.notna(x) else None)  # Replace NaT with None and convert to ISO format"
   ]
  },
  {
   "cell_type": "code",
   "execution_count": 156,
   "id": "c52fb95e",
   "metadata": {},
   "outputs": [],
   "source": [
    "# Database connection parameters\n",
    "db_params = {\n",
    "    'dbname': 'trial',  # Replace with your database name\n",
    "    'user': 'postgres',         # Replace with your PostgreSQL username\n",
    "    'password': '',             # Replace with your PostgreSQL password\n",
    "    'host': 'localhost',\n",
    "    'port': 5432\n",
    "}\n",
    "\n",
    "# SQL commands to create tables\n",
    "CREATE_TABLES_SQL = [\n",
    "    \"\"\"\n",
    "    DROP TABLE IF EXISTS products CASCADE;\n",
    "    CREATE TABLE products (\n",
    "        category_1 VARCHAR,\n",
    "        category_2 VARCHAR,\n",
    "        category_3 VARCHAR,\n",
    "        category_4 VARCHAR,\n",
    "        manufacturer VARCHAR,\n",
    "        brand VARCHAR,\n",
    "        barcode TEXT  -- Changed to TEXT to handle large values\n",
    "    );\n",
    "    \"\"\",\n",
    "    \"\"\"\n",
    "    DROP TABLE IF EXISTS transactions CASCADE;\n",
    "    CREATE TABLE transactions (\n",
    "        receipt_id VARCHAR PRIMARY KEY,\n",
    "        purchase_date DATE,\n",
    "        scan_date TIMESTAMP,\n",
    "        store_name VARCHAR,\n",
    "        user_id VARCHAR,\n",
    "        barcode TEXT,  -- Changed to TEXT to match products table\n",
    "        final_quantity VARCHAR,\n",
    "        final_sale VARCHAR\n",
    "    );\n",
    "    \"\"\",\n",
    "    \"\"\"\n",
    "    DROP TABLE IF EXISTS users CASCADE;\n",
    "    CREATE TABLE users (\n",
    "        id VARCHAR PRIMARY KEY,\n",
    "        created_date TIMESTAMP,\n",
    "        birth_date TIMESTAMP,\n",
    "        state VARCHAR,\n",
    "        language VARCHAR,\n",
    "        gender VARCHAR\n",
    "    );\n",
    "    \"\"\"\n",
    "]\n",
    "\n",
    "# Function to create tables\n",
    "def create_tables(conn):\n",
    "    with conn.cursor() as cur:\n",
    "        for query in CREATE_TABLES_SQL:\n",
    "            cur.execute(query)\n",
    "        conn.commit()\n",
    "    print(\"Tables created successfully!\")\n",
    "\n",
    "# Function to insert data into the database\n",
    "def insert_data_to_db(df, table_name, conn):\n",
    "    # Convert DataFrame to a list of tuples\n",
    "    tuples = [tuple(x) for x in df.to_numpy()]\n",
    "    cols = ','.join(list(df.columns))\n",
    "    \n",
    "    # Create SQL query\n",
    "    query = f\"INSERT INTO {table_name} ({cols}) VALUES %s\"\n",
    "    \n",
    "    # Execute query\n",
    "    with conn.cursor() as cur:\n",
    "        execute_values(cur, query, tuples)\n",
    "        conn.commit()"
   ]
  },
  {
   "cell_type": "markdown",
   "id": "94fee69a",
   "metadata": {},
   "source": [
    "**What are the top 5 brands by receipts scanned among users 21 and over?**"
   ]
  },
  {
   "cell_type": "markdown",
   "id": "f7131220",
   "metadata": {},
   "source": [
    "In this query, I analyzed the data to identify the top five brands based on the number of receipts scanned by users aged 21 and older. I combined the transactions, users, and products datasets by linking user IDs and barcodes. The data was filtered to exclude users with missing birth dates (to ensure valid age calculations) and products with missing or invalid brand names. The age of each user was determined using their birth date, and only those 21 years or older were considered. Finally, I grouped the data by brand and ranked them by the count of associated receipts, retrieving the top five brands."
   ]
  },
  {
   "cell_type": "code",
   "execution_count": 157,
   "id": "9cf3a809",
   "metadata": {},
   "outputs": [
    {
     "name": "stdout",
     "output_type": "stream",
     "text": [
      "Tables created successfully!\n",
      "Checking for duplicate RECEIPT_ID values...\n",
      "No duplicates found. Proceeding with insertion.\n",
      "Data inserted successfully!\n",
      "Top 5 Brands by Receipts Scanned (21 and Over):\n",
      "('COCA-COLA', 314)\n",
      "(\"ANNIE'S HOMEGROWN GROCERY\", 288)\n",
      "('DOVE', 279)\n",
      "('BAREFOOT', 276)\n",
      "('ORIBE', 252)\n"
     ]
    }
   ],
   "source": [
    "try:\n",
    "    # Connect to the database\n",
    "    conn = psycopg2.connect(**db_params)\n",
    "    \n",
    "    # Drop and create tables\n",
    "    create_tables(conn)\n",
    "    \n",
    "    # Validate and inspect data\n",
    "    print(\"Checking for duplicate RECEIPT_ID values...\")\n",
    "    if transactions_df['RECEIPT_ID'].duplicated().any():\n",
    "        raise ValueError(\"Duplicate RECEIPT_ID values found in transactions data!\")\n",
    "    print(\"No duplicates found. Proceeding with insertion.\")\n",
    "    \n",
    "    # Insert data into the database\n",
    "    insert_data_to_db(products_df, 'products', conn)\n",
    "    insert_data_to_db(transactions_df, 'transactions', conn)\n",
    "    insert_data_to_db(users_df, 'users', conn)\n",
    "    \n",
    "    print(\"Data inserted successfully!\")\n",
    "    \n",
    "    with conn.cursor() as cur:\n",
    "        # Query: Top 5 brands by receipts scanned among users 21 and over\n",
    "        cur.execute(\"\"\"\n",
    "            SELECT p.brand, COUNT(t.receipt_id) AS receipt_count\n",
    "            FROM transactions t\n",
    "            JOIN users u ON t.user_id = u.id\n",
    "            JOIN products p ON t.barcode = p.barcode\n",
    "            WHERE u.birth_date IS NOT NULL\n",
    "              AND DATE_PART('year', AGE(u.birth_date)) >= 21\n",
    "              AND p.brand IS NOT NULL AND p.brand != 'NaN'\n",
    "            GROUP BY p.brand\n",
    "            ORDER BY receipt_count DESC\n",
    "            LIMIT 5;\n",
    "        \"\"\")\n",
    "        top_brands = cur.fetchall()\n",
    "        print(\"Top 5 Brands by Receipts Scanned (21 and Over):\")\n",
    "        for brand in top_brands:\n",
    "            print(brand)\n",
    "except Exception as e:\n",
    "    print(f\"Error occurred: {e}\")\n",
    "\n"
   ]
  },
  {
   "cell_type": "markdown",
   "id": "8f27bf80",
   "metadata": {},
   "source": [
    "The top five brands by receipts scanned were Coca-Cola (314 receipts), Annie’s Homegrown Grocery (288 receipts), Dove (279 receipts), Barefoot (276 receipts), and Oribe (252 receipts). These brands have the highest engagement from users aged 21 and older, indicating their popularity within this demographic."
   ]
  },
  {
   "cell_type": "markdown",
   "id": "41b45b02",
   "metadata": {},
   "source": [
    "**What is the percentage of sales in the Health & Wellness category by generation?**"
   ]
  },
  {
   "cell_type": "markdown",
   "id": "45f9b20c",
   "metadata": {},
   "source": [
    "This query analyzed sales in the Health & Wellness category across different generations. Users were assigned to generational groups based on their age, calculated using their birth dates. The query considered only transactions involving products in the Health & Wellness category and excluded users with missing birth dates. Sales data was aggregated by generation, and the percentage of total category sales contributed by each generation was calculated. Generations included Silent Generation (77+ years), Boomers (58–76 years), Gen X (42–57 years), Millennials (26–41 years), and Gen Z (10–25 years), with users outside these age ranges categorized as \"Other.\""
   ]
  },
  {
   "cell_type": "code",
   "execution_count": 158,
   "id": "f7a21310",
   "metadata": {},
   "outputs": [
    {
     "name": "stdout",
     "output_type": "stream",
     "text": [
      "\n",
      "Percentage of Sales in Health & Wellness Category by Generation:\n",
      "Generation: Gen X, Sales: 27637.56, Percentage: 36.00%\n",
      "Generation: Millennials, Sales: 26027.65, Percentage: 34.00%\n",
      "Generation: Boomers, Sales: 22070.89, Percentage: 29.00%\n"
     ]
    }
   ],
   "source": [
    "try:\n",
    "    with conn.cursor() as cur:\n",
    "        # Query: Percentage of Sales in Health & Wellness Category by Generation\n",
    "        cur.execute(\"\"\"\n",
    "        WITH generation_sales AS (\n",
    "            SELECT \n",
    "                CASE \n",
    "                    WHEN DATE_PART('year', AGE(u.birth_date)) >= 77 THEN 'Silent Generation'\n",
    "                    WHEN DATE_PART('year', AGE(u.birth_date)) BETWEEN 58 AND 76 THEN 'Boomers'\n",
    "                    WHEN DATE_PART('year', AGE(u.birth_date)) BETWEEN 42 AND 57 THEN 'Gen X'\n",
    "                    WHEN DATE_PART('year', AGE(u.birth_date)) BETWEEN 26 AND 41 THEN 'Millennials'\n",
    "                    WHEN DATE_PART('year', AGE(u.birth_date)) BETWEEN 10 AND 25 THEN 'Gen Z'\n",
    "                    WHEN DATE_PART('year', AGE(u.birth_date)) < 10 THEN 'Generation Alpha'\n",
    "                    ELSE 'Unknown'\n",
    "                END AS generation,\n",
    "                SUM(CAST(t.final_sale AS FLOAT)) AS generation_sales\n",
    "            FROM \n",
    "                transactions t\n",
    "            JOIN \n",
    "                users u ON t.user_id = u.id\n",
    "            JOIN \n",
    "                products p ON t.barcode = p.barcode\n",
    "            WHERE \n",
    "                t.final_sale ~ '^\\\\d+(\\\\.\\\\d+)?$'\n",
    "                AND p.category_1 = 'Health & Wellness'\n",
    "                AND u.birth_date IS NOT NULL\n",
    "            GROUP BY \n",
    "                generation\n",
    "        ),\n",
    "        total_sales AS (\n",
    "            SELECT \n",
    "                SUM(generation_sales) AS total_health_wellness_sales\n",
    "            FROM \n",
    "                generation_sales\n",
    "        )\n",
    "        SELECT \n",
    "            g.generation,\n",
    "            g.generation_sales,\n",
    "            ROUND(\n",
    "                (g.generation_sales / t.total_health_wellness_sales)::NUMERIC, \n",
    "                2\n",
    "            ) * 100 AS percentage_of_sales\n",
    "        FROM \n",
    "            generation_sales g\n",
    "        CROSS JOIN \n",
    "            total_sales t\n",
    "        ORDER BY \n",
    "            percentage_of_sales DESC;\n",
    "        \"\"\")\n",
    "\n",
    "        results = cur.fetchall()\n",
    "\n",
    "        if results:\n",
    "            print(\"\\nPercentage of Sales in Health & Wellness Category by Generation:\")\n",
    "            for row in results:\n",
    "                print(f\"Generation: {row[0]}, Sales: {row[1]:.2f}, Percentage: {row[2]:.2f}%\")\n",
    "        else:\n",
    "            print(\"\\nNo data found for the Health & Wellness category.\")\n",
    "except Exception as e:\n",
    "    print(f\"Error occurred: {e}\")\n",
    "\n",
    "\n",
    "\n",
    "\n"
   ]
  },
  {
   "cell_type": "markdown",
   "id": "acd7492d",
   "metadata": {},
   "source": [
    "Findings:\n",
    "The analysis revealed that Gen X contributed the most to Health & Wellness sales at 36%, followed by Millennials at 34% and Boomers at 29%. This indicates that the younger generations (Gen X and Millennials) drive most of the sales in this category, highlighting their preference for health-conscious products."
   ]
  },
  {
   "cell_type": "markdown",
   "id": "701fc7df",
   "metadata": {},
   "source": [
    "**Who are Fetch’s power users?**"
   ]
  },
  {
   "cell_type": "markdown",
   "id": "dad96553",
   "metadata": {},
   "source": [
    "This query aimed to identify \"power users\" of Fetch Rewards by analyzing the receipt activity of users. The number of receipts scanned by each user was calculated by grouping the data by user IDs. A threshold for power users was established using the 99th percentile of receipt counts. Users whose receipt counts met or exceeded this threshold were identified as power users and ranked in descending order of receipt counts. The data excluded users with invalid or missing IDs to maintain accuracy."
   ]
  },
  {
   "cell_type": "code",
   "execution_count": 142,
   "id": "0b8e6d0f",
   "metadata": {},
   "outputs": [
    {
     "name": "stdout",
     "output_type": "stream",
     "text": [
      "\n",
      "Fetch's Power Users:\n",
      "('62ffec490d9dbaff18c0a999', 3)\n",
      "('5c366bf06d9819129dfa1118', 3)\n",
      "('62c09104baa38d1a1f6c260e', 3)\n",
      "('610a8541ca1fab5b417b5d33', 3)\n",
      "('6528a0a388a3a884364d94dc', 3)\n",
      "('61a58ac49c135b462ccddd1c', 3)\n",
      "Database connection closed.\n"
     ]
    }
   ],
   "source": [
    "try:\n",
    "    with conn.cursor() as cur:\n",
    "        # Query: Fetch's Power Users\n",
    "        cur.execute(\"\"\"\n",
    "            WITH user_receipt_counts AS (\n",
    "                SELECT u.id AS user_id, COUNT(t.receipt_id) AS receipt_count\n",
    "                FROM transactions t\n",
    "                JOIN users u ON t.user_id = u.id\n",
    "                GROUP BY u.id\n",
    "            )\n",
    "            SELECT user_id, receipt_count\n",
    "            FROM user_receipt_counts\n",
    "            WHERE receipt_count >= (SELECT PERCENTILE_CONT(0.99) WITHIN GROUP (ORDER BY receipt_count) FROM user_receipt_counts)\n",
    "            ORDER BY receipt_count DESC;\n",
    "        \"\"\")\n",
    "        \n",
    "        power_users = cur.fetchall()\n",
    "        print(\"\\nFetch's Power Users:\")\n",
    "        for user in power_users:\n",
    "            print(user)\n",
    "except Exception as e:\n",
    "    print(f\"Error occurred: {e}\")\n",
    "finally:\n",
    "    if conn:\n",
    "        conn.close()\n",
    "        print(\"Database connection closed.\")"
   ]
  },
  {
   "cell_type": "markdown",
   "id": "1745b7d7",
   "metadata": {},
   "source": [
    "Findings:\n",
    "Fetch’s power users were identified as users with three or more receipts scanned, corresponding to the 99th percentile. The analysis uncovered six power users, each with exactly three receipts scanned. These users represent the most engaged portion of the Fetch Rewards user base, likely contributing significantly to overall platform activity.\n",
    "\n"
   ]
  }
 ],
 "metadata": {
  "kernelspec": {
   "display_name": "Python 3 (ipykernel)",
   "language": "python",
   "name": "python3"
  },
  "language_info": {
   "codemirror_mode": {
    "name": "ipython",
    "version": 3
   },
   "file_extension": ".py",
   "mimetype": "text/x-python",
   "name": "python",
   "nbconvert_exporter": "python",
   "pygments_lexer": "ipython3",
   "version": "3.11.3"
  }
 },
 "nbformat": 4,
 "nbformat_minor": 5
}
